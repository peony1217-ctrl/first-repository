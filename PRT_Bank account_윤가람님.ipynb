{
  "nbformat": 4,
  "nbformat_minor": 0,
  "metadata": {
    "colab": {
      "provenance": [],
      "authorship_tag": "ABX9TyOYX1lKk1Jb5NJY+kC9q2zY",
      "include_colab_link": true
    },
    "kernelspec": {
      "name": "python3",
      "display_name": "Python 3"
    },
    "language_info": {
      "name": "python"
    }
  },
  "cells": [
    {
      "cell_type": "markdown",
      "metadata": {
        "id": "view-in-github",
        "colab_type": "text"
      },
      "source": [
        "<a href=\"https://colab.research.google.com/github/peony1217-ctrl/first-repository/blob/master/PRT_Bank%20account_%EC%9C%A4%EA%B0%80%EB%9E%8C%EB%8B%98.ipynb\" target=\"_parent\"><img src=\"https://colab.research.google.com/assets/colab-badge.svg\" alt=\"Open In Colab\"/></a>"
      ]
    },
    {
      "cell_type": "markdown",
      "source": [],
      "metadata": {
        "id": "Wy50AMGVssT7"
      }
    },
    {
      "cell_type": "markdown",
      "source": [
        "# AIFFEL Campus Online Code Peer Review Templete\n",
        "- 코더 : 코더의 이름을 작성하세요.\n",
        "- 리뷰어 : 리뷰어의 이름을 작성하세요.\n",
        "\n",
        "\n",
        "# PRT(Peer Review Template)\n",
        "- [🔼]  **1. 주어진 문제를 해결하는 완성된 코드가 제출되었나요?**\n",
        "    - 문제에서 요구하는 최종 결과물이 첨부되었는지 확인\n",
        "        - 중요! 해당 조건을 만족하는 부분을 캡쳐해 근거로 첨부\n",
        "\n",
        "➡️ 함수 클래스를 사용하여 입금, 출금, 거래 내역 기록이 가능하고, 계좌 번호 생성, 입금 횟수에 따른 이자 지급까지 잘 작성하였음. 다만 코드 실행 시 acc.show_history()와 속성에러가 발생해서 코드에 오류가 있음을 알게되었음\n",
        "\n",
        "[link text](https://github.com/kahram-y/first-repository/blob/master/quest3/250924_teamtaskipynb.ipynb)\n",
        "    \n",
        "- [⏺️]  **2. 전체 코드에서 가장 핵심적이거나 가장 복잡하고 이해하기 어려운 부분에 작성된\n",
        "주석 또는 doc string을 보고 해당 코드가 잘 이해되었나요?**\n",
        "    - 해당 코드 블럭을 왜 핵심적이라고 생각하는지 확인\n",
        "    - 해당 코드 블럭에 doc string/annotation이 달려 있는지 확인\n",
        "    - 해당 코드의 기능, 존재 이유, 작동 원리 등을 기술했는지 확인\n",
        "    - 주석을 보고 코드 이해가 잘 되었는지 확인\n",
        "        - 중요! 잘 작성되었다고 생각되는 부분을 캡쳐해 근거로 첨부\n",
        "\n",
        "➡️ 주석을 통해 각 함수의 목적을 알수 있었음. 이자지급 부분에 balance가 blance로 오타가 나서 속성에러가 발생했음\n",
        "![image.png](data:image/png;base64,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)\n",
        "        \n",
        "- [❌]  **3. 에러가 난 부분을 디버깅하여 문제를 해결한 기록을 남겼거나\n",
        "새로운 시도 또는 추가 실험을 수행해봤나요?**\n",
        "    - 문제 원인 및 해결 과정을 잘 기록하였는지 확인\n",
        "    - 프로젝트 평가 기준에 더해 추가적으로 수행한 나만의 시도,\n",
        "    실험이 기록되어 있는지 확인\n",
        "        - 중요! 잘 작성되었다고 생각되는 부분을 캡쳐해 근거로 첨부\n",
        "\n",
        "➡️ 에러를 뒤늦게 파악하여 기록을 남기거나 추가 실험을 수행하지 못했음\n",
        "        \n",
        "- [❌]  **4. 회고를 잘 작성했나요?**\n",
        "    - 주어진 문제를 해결하는 완성된 코드 내지 프로젝트 결과물에 대해\n",
        "    배운점과 아쉬운점, 느낀점 등이 기록되어 있는지 확인\n",
        "    - 전체 코드 실행 플로우를 그래프로 그려서 이해를 돕고 있는지 확인\n",
        "        - 중요! 잘 작성되었다고 생각되는 부분을 캡쳐해 근거로 첨부\n",
        "\n",
        "➡️ 회고 미작성\n",
        "        \n",
        "- [⏺️]  **5. 코드가 간결하고 효율적인가요?**\n",
        "    - 파이썬 스타일 가이드 (PEP8) 를 준수하였는지 확인\n",
        "    - 코드 중복을 최소화하고 범용적으로 사용할 수 있도록 함수화/모듈화했는지 확인\n",
        "        - 중요! 잘 작성되었다고 생각되는 부분을 캡쳐해 근거로 첨부\n",
        "\n",
        "➡️ 클래스 및 함수를 이용하여 구조화된 코드를 만들었음. 다만 일부 에러가 난 부분들은 수정이 필요함\n",
        "\n",
        "# 회고(참고 링크 및 코드 개선)\n",
        "```\n",
        "가람 님의 코드를 리뷰하면서 클래스와 함수 사용 및, 입금/출금 메서드 구조가 잘 짜여진 것을 확인하였고, 주석이 상세하게 달려 있어 코드 이해가 수월했습니다. 시간이 충분했었더라면 최종 에러를 확인하여 완성된 코드를 구현했을거라 예상합니다.\n",
        "```"
      ],
      "metadata": {
        "id": "Qya204L7umuD"
      }
    }
  ]
}