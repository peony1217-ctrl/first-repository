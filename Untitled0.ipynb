{
  "nbformat": 4,
  "nbformat_minor": 0,
  "metadata": {
    "colab": {
      "provenance": [],
      "authorship_tag": "ABX9TyPORvi8TaT7kMdMkJARQFyS",
      "include_colab_link": true
    },
    "kernelspec": {
      "name": "python3",
      "display_name": "Python 3"
    },
    "language_info": {
      "name": "python"
    }
  },
  "cells": [
    {
      "cell_type": "markdown",
      "metadata": {
        "id": "view-in-github",
        "colab_type": "text"
      },
      "source": [
        "<a href=\"https://colab.research.google.com/github/DSHYOJIN/23withGIHWA/blob/master/Untitled0.ipynb\" target=\"_parent\"><img src=\"https://colab.research.google.com/assets/colab-badge.svg\" alt=\"Open In Colab\"/></a>"
      ]
    },
    {
      "cell_type": "markdown",
      "source": [
        "**9월 23일**\n",
        "\n",
        "- 모든 문자는 소문자로\n",
        "- 모든 기호 제거\n",
        "- 단어 단위 분리\n",
        "    - 단어별 빈도수를 dict로 저장\n",
        "    - 이때 dict은 desc하고 다시 reset_index\n",
        "    - 텍스트 input받으면 정수 return하게"
      ],
      "metadata": {
        "id": "98_RF77ZYAPK"
      }
    },
    {
      "cell_type": "code",
      "source": [
        "# import re >> 파이썬에서 정규 표현식 기능을 사용하기 위해 필요한 구문\n",
        "# from collections import Counter >> collections 모듈에서 Counter라는 클래스를 가져오는 구문\n",
        "# 딕셔너리는 '요소:개수'로 이루어짐.\n",
        "# class >> 특정 목적으로 위해 데이터(속성)와 그 데이터를 다루는 함수(메서드)를 묶어놓은..\n",
        "# def __init__(self, path) >> 이 Vocab 클래스를 초기화하는 메서드\n",
        "# self는 클래스 메서드의 첫 번째 매개변수, 자기 자신 / self를 사용해야만 현재 인스턴스에 속한 self.vocab변수에 접근 가능\n",
        "# def sort_key(item) >> item은 정렬될 대상인 하나의 요소\n",
        "\n",
        "#freq.items() >> (단어, 빈도수) >> [('the', 5), ('is', 3), ('a', 3), ('man', 1)]\n",
        "#sorted(freq.items(), key=sort_key) >>\n"
      ],
      "metadata": {
        "id": "lKcz8oXAb35u"
      },
      "execution_count": 2,
      "outputs": []
    },
    {
      "cell_type": "code",
      "execution_count": 3,
      "metadata": {
        "colab": {
          "base_uri": "https://localhost:8080/"
        },
        "id": "ZXtgKz0CWsTf",
        "outputId": "01837e04-50bd-451b-de67-31db3e1a5037"
      },
      "outputs": [
        {
          "output_type": "stream",
          "name": "stdout",
          "text": [
            "[2, 120, 3, 536]\n"
          ]
        }
      ],
      "source": [
        "\n",
        "import re\n",
        "from collections import Counter\n",
        "\n",
        "class Vocab:\n",
        "    def __init__(self, path):\n",
        "        text = open(path, encoding=\"utf-8\").read().lower()\n",
        "        text = re.sub(r\"[^a-z0-9\\s]\", \" \", text)\n",
        "        tokens = text.split()\n",
        "        freq = Counter(tokens)\n",
        "\n",
        "        def sort_key(item):\n",
        "            word, count = item\n",
        "            return (-count, word)\n",
        "\n",
        "        sorted_items = sorted(freq.items(), key=sort_key)\n",
        "\n",
        "        # 단어에 번호 매기기\n",
        "        self.vocab = {}\n",
        "        for i, (word, count) in enumerate(sorted_items):\n",
        "            self.vocab[word] = i\n",
        "\n",
        "    def encode(self, sentence):\n",
        "        s = re.sub(r\"[^a-z0-9\\s]\", \" \", sentence.lower()).split()\n",
        "        return [self.vocab[w] for w in s if w in self.vocab]\n",
        "\n",
        "# 실행 예시\n",
        "v = Vocab(\"Avengers.txt\")\n",
        "# print(v.vocab)\n",
        "print(v.encode(\"i am a boy\"))"
      ]
    },
    {
      "cell_type": "code",
      "source": [],
      "metadata": {
        "id": "GgYDMC3SihRk"
      },
      "execution_count": null,
      "outputs": []
    }
  ]
}