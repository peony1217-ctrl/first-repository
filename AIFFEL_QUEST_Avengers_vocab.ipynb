{
  "nbformat": 4,
  "nbformat_minor": 0,
  "metadata": {
    "colab": {
      "provenance": [],
      "include_colab_link": true
    },
    "kernelspec": {
      "name": "python3",
      "display_name": "Python 3"
    },
    "language_info": {
      "name": "python"
    }
  },
  "cells": [
    {
      "cell_type": "markdown",
      "metadata": {
        "id": "view-in-github",
        "colab_type": "text"
      },
      "source": [
        "<a href=\"https://colab.research.google.com/github/peony1217-ctrl/first-repository/blob/master/AIFFEL_QUEST_Avengers_vocab.ipynb\" target=\"_parent\"><img src=\"https://colab.research.google.com/assets/colab-badge.svg\" alt=\"Open In Colab\"/></a>"
      ]
    },
    {
      "cell_type": "code",
      "source": [
        "import re\n",
        "from collections import Counter\n",
        "\n",
        "def preprocess_text(file_path):\n",
        "    \"\"\"\n",
        "    텍스트 파일을 읽어 모두 소문자로 변환하고,\n",
        "    문장 부호를 제거한 뒤 단어 단위로 나눕니다.\n",
        "\n",
        "    Args:\n",
        "        file_path (str): 텍스트 파일 경로\n",
        "\n",
        "    Returns:\n",
        "        list: 전처리된 단어들의 리스트\n",
        "    \"\"\"\n",
        "    with open(file_path, 'r', encoding='utf-8') as f:\n",
        "        text = f.read()\n",
        "    text = text.lower()\n",
        "    text = re.sub(r'[^a-z\\s]', ' ', text)\n",
        "    words = text.split()\n",
        "    return words\n",
        "\n",
        "def build_vocab(words):\n",
        "    \"\"\"\n",
        "    단어의 빈도수를 기반으로 단어장 딕셔너리를 생성합니다.\n",
        "    빈도수 내림차순, 동률 시 등장 순서 기준으로 정렬합니다.\n",
        "\n",
        "    Args:\n",
        "        words (list): 텍스트에서 추출한 단어 리스트\n",
        "\n",
        "    Returns:\n",
        "        dict: 단어(key)와 정수 인덱스(value) 매핑 딕셔너리\n",
        "    \"\"\"\n",
        "    word_counts = Counter(words)\n",
        "    unique_words = []\n",
        "    seen = set()\n",
        "    for w in words:\n",
        "        if w not in seen:\n",
        "            unique_words.append(w)\n",
        "            seen.add(w)\n",
        "\n",
        "    vocab_sorted = sorted(unique_words, key=lambda w: (-word_counts[w], unique_words.index(w)))\n",
        "    vocab = {word: idx for idx, word in enumerate(vocab_sorted)}\n",
        "    return vocab\n",
        "\n",
        "def encoder(sentence, vocab):\n",
        "    \"\"\"\n",
        "    문장을 입력받아 단어장 기준으로 정수 인덱스 리스트로 변환합니다.\n",
        "\n",
        "    Args:\n",
        "        sentence (str): 변환할 문장\n",
        "        vocab (dict): 단어-인덱스 매핑 딕셔너리\n",
        "\n",
        "    Returns:\n",
        "        list: 문장의 단어를 정수 인덱스로 변환한 리스트\n",
        "    \"\"\"\n",
        "    sentence = sentence.lower()\n",
        "    sentence = re.sub(r'[^a-z\\s]', ' ', sentence)\n",
        "    tokens = sentence.split()\n",
        "    return [vocab[token] for token in tokens if token in vocab]\n",
        "\n",
        "# -------------------------------\n",
        "# 사용 예시\n",
        "# 재사용 할 수 있는 단어장 생성\n",
        "# -------------------------------\n",
        "file_path = '/content/Avengers.txt'\n",
        "words = preprocess_text(file_path)\n",
        "vocab = build_vocab(words)\n",
        "\n",
        "print(\"단어장:\", dict(list(vocab.items())[:10]))\n",
        "\n",
        "test_sentence = \"i am a boy\"\n",
        "encoded = encoder(test_sentence, vocab)\n",
        "print(\"인코딩 결과:\", encoded)  # [2, 131, 3, 541]\n",
        "\n",
        "\n",
        "  # --------------------------------------------------------------------------\n",
        "  # 회고 : 김지수\n",
        "  # 기화님과 코드를 만들어나가면서 초반에는 파일 불러오기부터 오류가 떴습니다.\n",
        "  # 하지만 기화님께서 차분히 해결 방법을 찾아주셨고,\n",
        "  # 오류원인을 해결해 프로그래밍을 완성할 수 있었습니다.\n",
        "  # 이 프로그래밍에서 저희가 직접 단어장을 만들어서 다른 텍스트 파일을 넣었을 때,\n",
        "  # 이 코드를 사용할 수 있다는 점이 뿌듯하고 신기했습니다.\n",
        "  # --------------------------------------------------------------------------\n",
        "  # 회고 : 이기화\n",
        "  # 이번 미션에서 주어진 Avengers 텍스트 파일을 기반으로 단어장(vocabulary)과\n",
        "  # 인코더 관련 함수를 사용하여 코드를 작성하였다.\n",
        "  # 함수를 사용하여 텍스트 전처리, 단어장 생성, 인코딩 기능을 넣었고,\n",
        "  # 사용예시부를 구분하여 함수 자체는 재사용 가능하도록 하고,\n",
        "  # 다른 입력값에도 쉽게 적용할 수 있도록 만들었다.\n",
        "  # --------------------------------------------------------------------------\n",
        "\n",
        "\n"
      ],
      "metadata": {
        "id": "Q8EG2R_MM9es",
        "colab": {
          "base_uri": "https://localhost:8080/"
        },
        "outputId": "c97abcb9-6984-442f-84b3-0c4dd4ee1a68"
      },
      "execution_count": 15,
      "outputs": [
        {
          "output_type": "stream",
          "name": "stdout",
          "text": [
            "단어장: {'you': 0, 'the': 1, 'i': 2, 'a': 3, 'to': 4, 's': 5, 'it': 6, 'we': 7, 'that': 8, 't': 9}\n",
            "인코딩 결과: [2, 121, 3, 541]\n"
          ]
        }
      ]
    },
    {
      "cell_type": "code",
      "source": [
        "from google.colab import drive\n",
        "drive.mount('/content/drive')"
      ],
      "metadata": {
        "id": "cLv7XW7BN8WP"
      },
      "execution_count": null,
      "outputs": []
    }
  ]
}